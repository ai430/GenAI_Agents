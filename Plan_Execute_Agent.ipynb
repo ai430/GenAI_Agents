{
  "nbformat": 4,
  "nbformat_minor": 0,
  "metadata": {
    "colab": {
      "provenance": []
    },
    "kernelspec": {
      "name": "python3",
      "display_name": "Python 3"
    },
    "language_info": {
      "name": "python"
    }
  },
  "cells": [
    {
      "cell_type": "code",
      "execution_count": null,
      "metadata": {
        "id": "IsnQreuuP8lQ"
      },
      "outputs": [],
      "source": [
        "import os\n",
        "\n",
        "os.environ[\"OPENAI_API_KEY\"] = \"YOUR_KEY\"\n",
        "os.environ[\"ACTIVELOOP_TOKEN\"] = \"YOUR_KEY\""
      ]
    },
    {
      "cell_type": "code",
      "source": [
        "!pip install --upgrade --quiet newspaper3k lxml_html_clean langchain openai langchain_openai langchain-community deeplake[enterprise]==3.9.26 tiktoken"
      ],
      "metadata": {
        "id": "IMM8H94QRmNz",
        "colab": {
          "base_uri": "https://localhost:8080/"
        },
        "outputId": "b05975cd-3b56-4719-bfa9-163870730a91"
      },
      "execution_count": null,
      "outputs": [
        {
          "output_type": "stream",
          "name": "stdout",
          "text": [
            "\u001b[?25l     \u001b[90m━━━━━━━━━━━━━━━━━━━━━━━━━━━━━━━━━━━━━━━━\u001b[0m \u001b[32m0.0/617.7 kB\u001b[0m \u001b[31m?\u001b[0m eta \u001b[36m-:--:--\u001b[0m\r\u001b[2K     \u001b[90m━━━━━━━━━━━━━━━━━━━━━━━━━━━━━━━━━━━━━━━━\u001b[0m \u001b[32m617.7/617.7 kB\u001b[0m \u001b[31m28.5 MB/s\u001b[0m eta \u001b[36m0:00:00\u001b[0m\n",
            "\u001b[?25h  Installing build dependencies ... \u001b[?25l\u001b[?25hdone\n",
            "  Getting requirements to build wheel ... \u001b[?25l\u001b[?25hdone\n",
            "  Preparing metadata (pyproject.toml) ... \u001b[?25l\u001b[?25hdone\n",
            "  Preparing metadata (setup.py) ... \u001b[?25l\u001b[?25hdone\n",
            "\u001b[2K     \u001b[90m━━━━━━━━━━━━━━━━━━━━━━━━━━━━━━━━━━━━━━━━\u001b[0m \u001b[32m7.4/7.4 MB\u001b[0m \u001b[31m86.7 MB/s\u001b[0m eta \u001b[36m0:00:00\u001b[0m\n",
            "\u001b[?25h  Preparing metadata (setup.py) ... \u001b[?25l\u001b[?25hdone\n",
            "  Preparing metadata (setup.py) ... \u001b[?25l\u001b[?25hdone\n",
            "  Preparing metadata (setup.py) ... \u001b[?25l\u001b[?25hdone\n",
            "\u001b[2K   \u001b[90m━━━━━━━━━━━━━━━━━━━━━━━━━━━━━━━━━━━━━━━━\u001b[0m \u001b[32m17.7/17.7 MB\u001b[0m \u001b[31m73.5 MB/s\u001b[0m eta \u001b[36m0:00:00\u001b[0m\n",
            "\u001b[2K   \u001b[90m━━━━━━━━━━━━━━━━━━━━━━━━━━━━━━━━━━━━━━━━\u001b[0m \u001b[32m211.1/211.1 kB\u001b[0m \u001b[31m14.7 MB/s\u001b[0m eta \u001b[36m0:00:00\u001b[0m\n",
            "\u001b[2K   \u001b[90m━━━━━━━━━━━━━━━━━━━━━━━━━━━━━━━━━━━━━━━━\u001b[0m \u001b[32m1.0/1.0 MB\u001b[0m \u001b[31m46.5 MB/s\u001b[0m eta \u001b[36m0:00:00\u001b[0m\n",
            "\u001b[2K   \u001b[90m━━━━━━━━━━━━━━━━━━━━━━━━━━━━━━━━━━━━━━━━\u001b[0m \u001b[32m454.8/454.8 kB\u001b[0m \u001b[31m26.4 MB/s\u001b[0m eta \u001b[36m0:00:00\u001b[0m\n",
            "\u001b[2K   \u001b[90m━━━━━━━━━━━━━━━━━━━━━━━━━━━━━━━━━━━━━━━━\u001b[0m \u001b[32m54.2/54.2 kB\u001b[0m \u001b[31m3.4 MB/s\u001b[0m eta \u001b[36m0:00:00\u001b[0m\n",
            "\u001b[2K   \u001b[90m━━━━━━━━━━━━━━━━━━━━━━━━━━━━━━━━━━━━━━━━\u001b[0m \u001b[32m2.5/2.5 MB\u001b[0m \u001b[31m67.7 MB/s\u001b[0m eta \u001b[36m0:00:00\u001b[0m\n",
            "\u001b[2K   \u001b[90m━━━━━━━━━━━━━━━━━━━━━━━━━━━━━━━━━━━━━━━━\u001b[0m \u001b[32m1.2/1.2 MB\u001b[0m \u001b[31m49.5 MB/s\u001b[0m eta \u001b[36m0:00:00\u001b[0m\n",
            "\u001b[2K   \u001b[90m━━━━━━━━━━━━━━━━━━━━━━━━━━━━━━━━━━━━━━━━\u001b[0m \u001b[32m77.8/77.8 kB\u001b[0m \u001b[31m5.6 MB/s\u001b[0m eta \u001b[36m0:00:00\u001b[0m\n",
            "\u001b[2K   \u001b[90m━━━━━━━━━━━━━━━━━━━━━━━━━━━━━━━━━━━━━━━━\u001b[0m \u001b[32m139.2/139.2 kB\u001b[0m \u001b[31m10.0 MB/s\u001b[0m eta \u001b[36m0:00:00\u001b[0m\n",
            "\u001b[2K   \u001b[90m━━━━━━━━━━━━━━━━━━━━━━━━━━━━━━━━━━━━━━━━\u001b[0m \u001b[32m81.3/81.3 kB\u001b[0m \u001b[31m6.0 MB/s\u001b[0m eta \u001b[36m0:00:00\u001b[0m\n",
            "\u001b[2K   \u001b[90m━━━━━━━━━━━━━━━━━━━━━━━━━━━━━━━━━━━━━━━━\u001b[0m \u001b[32m411.6/411.6 kB\u001b[0m \u001b[31m24.9 MB/s\u001b[0m eta \u001b[36m0:00:00\u001b[0m\n",
            "\u001b[2K   \u001b[90m━━━━━━━━━━━━━━━━━━━━━━━━━━━━━━━━━━━━━━━━\u001b[0m \u001b[32m4.5/4.5 MB\u001b[0m \u001b[31m78.2 MB/s\u001b[0m eta \u001b[36m0:00:00\u001b[0m\n",
            "\u001b[2K   \u001b[90m━━━━━━━━━━━━━━━━━━━━━━━━━━━━━━━━━━━━━━━━\u001b[0m \u001b[32m104.9/104.9 kB\u001b[0m \u001b[31m7.6 MB/s\u001b[0m eta \u001b[36m0:00:00\u001b[0m\n",
            "\u001b[2K   \u001b[90m━━━━━━━━━━━━━━━━━━━━━━━━━━━━━━━━━━━━━━━━\u001b[0m \u001b[32m1.3/1.3 MB\u001b[0m \u001b[31m50.0 MB/s\u001b[0m eta \u001b[36m0:00:00\u001b[0m\n",
            "\u001b[2K   \u001b[90m━━━━━━━━━━━━━━━━━━━━━━━━━━━━━━━━━━━━━━━━\u001b[0m \u001b[32m82.1/82.1 kB\u001b[0m \u001b[31m6.0 MB/s\u001b[0m eta \u001b[36m0:00:00\u001b[0m\n",
            "\u001b[2K   \u001b[90m━━━━━━━━━━━━━━━━━━━━━━━━━━━━━━━━━━━━━━━━\u001b[0m \u001b[32m13.3/13.3 MB\u001b[0m \u001b[31m78.8 MB/s\u001b[0m eta \u001b[36m0:00:00\u001b[0m\n",
            "\u001b[2K   \u001b[90m━━━━━━━━━━━━━━━━━━━━━━━━━━━━━━━━━━━━━━━━\u001b[0m \u001b[32m119.4/119.4 kB\u001b[0m \u001b[31m8.6 MB/s\u001b[0m eta \u001b[36m0:00:00\u001b[0m\n",
            "\u001b[2K   \u001b[90m━━━━━━━━━━━━━━━━━━━━━━━━━━━━━━━━━━━━━━━━\u001b[0m \u001b[32m49.6/49.6 kB\u001b[0m \u001b[31m3.0 MB/s\u001b[0m eta \u001b[36m0:00:00\u001b[0m\n",
            "\u001b[2K   \u001b[90m━━━━━━━━━━━━━━━━━━━━━━━━━━━━━━━━━━━━━━━━\u001b[0m \u001b[32m134.8/134.8 kB\u001b[0m \u001b[31m9.1 MB/s\u001b[0m eta \u001b[36m0:00:00\u001b[0m\n",
            "\u001b[2K   \u001b[90m━━━━━━━━━━━━━━━━━━━━━━━━━━━━━━━━━━━━━━━━\u001b[0m \u001b[32m56.8/56.8 kB\u001b[0m \u001b[31m4.1 MB/s\u001b[0m eta \u001b[36m0:00:00\u001b[0m\n",
            "\u001b[2K   \u001b[90m━━━━━━━━━━━━━━━━━━━━━━━━━━━━━━━━━━━━━━━━\u001b[0m \u001b[32m83.2/83.2 kB\u001b[0m \u001b[31m5.8 MB/s\u001b[0m eta \u001b[36m0:00:00\u001b[0m\n",
            "\u001b[?25h  Building wheel for deeplake (pyproject.toml) ... \u001b[?25l\u001b[?25hdone\n",
            "  Building wheel for tinysegmenter (setup.py) ... \u001b[?25l\u001b[?25hdone\n",
            "  Building wheel for feedfinder2 (setup.py) ... \u001b[?25l\u001b[?25hdone\n",
            "  Building wheel for jieba3k (setup.py) ... \u001b[?25l\u001b[?25hdone\n",
            "  Building wheel for sgmllib3k (setup.py) ... \u001b[?25l\u001b[?25hdone\n"
          ]
        }
      ]
    },
    {
      "cell_type": "code",
      "source": [
        "# We scrape several Artificial Intelligence news\n",
        "\n",
        "import requests\n",
        "from newspaper import Article # https://github.com/codelucas/newspaper\n",
        "import time\n",
        "\n",
        "headers = {\n",
        "    'User-Agent': 'Mozilla/5.0 (Windows NT 10.0; Win64; x64) AppleWebKit/537.36 (KHTML, like Gecko) Chrome/89.0.4389.82 Safari/537.36'\n",
        "}\n",
        "\n",
        "article_urls = [\n",
        "    \"https://www.cnn.com/2024/12/12/business/video/doug-ford-trump-tariffs-energy-digvid\",\n",
        "    \"https://www.cnn.com/2024/12/02/world/video/the-lead-kirsten-hillman-canada-usa-relations-trump-trudeau-border-tariff-jake-tapper\"\n",
        "    \"https://www.bbc.com/news/articles/c86q87yjgzjo\",\n",
        "    \"https://www.bbc.com/news/articles/cvg7y52n411o?at_bbc_team=editorial&at_campaign_type=owned&at_format=link&at_link_id=0C146EE4-AB9A-11EF-BC0A-8820617FED87&at_link_origin=BBC_News&at_link_type=web_link&at_ptr_name=facebook_page\",\n",
        "    \"https://www.bbc.com/news/live/c8xpzl8nnvwt?post=asset%3A10a9ad98-4ed5-4c74-819d-36a0576c097d\",\n",
        "    \"https://www.bbc.com/news/world-us-canada-43270388\",\n",
        "    \"https://www.bbc.com/news/articles/czx5p41696po?tblci=GiDPSpcbLTQvFpiK5Wzng-UVYWIGJhvv4xeeqqIV2srRyiDSv1so-ZOt_se-05beAQ\",\n",
        "]\n",
        "\n",
        "session = requests.Session()\n",
        "pages_content = [] # where we save the scraped articles\n",
        "\n",
        "for url in article_urls:\n",
        "    try:\n",
        "        time.sleep(2) # sleep two seconds for gentle scraping\n",
        "        response = session.get(url, headers=headers, timeout=10)\n",
        "\n",
        "        if response.status_code == 200:\n",
        "            article = Article(url)\n",
        "            article.download() # download HTML of webpage\n",
        "            article.parse() # parse HTML to extract the article text\n",
        "            pages_content.append({ \"url\": url, \"text\": article.text })\n",
        "        else:\n",
        "            print(f\"Failed to fetch article at {url}\")\n",
        "    except Exception as e:\n",
        "        print(f\"Error occurred while fetching article at {url}: {e}\")\n",
        "\n",
        "#If an error occurs while fetching an article, we catch the exception and print\n",
        "#an error message. This ensures that even if one article fails to download,\n",
        "#the rest of the articles can still be processed."
      ],
      "metadata": {
        "id": "1GEQJGYI_uOb",
        "colab": {
          "base_uri": "https://localhost:8080/"
        },
        "outputId": "fa36d3e5-502b-452e-b331-be68c2144f99"
      },
      "execution_count": null,
      "outputs": [
        {
          "output_type": "stream",
          "name": "stdout",
          "text": [
            "Failed to fetch article at https://www.cnn.com/2024/12/02/world/video/the-lead-kirsten-hillman-canada-usa-relations-trump-trudeau-border-tariff-jake-tapperhttps://www.bbc.com/news/articles/c86q87yjgzjo\n"
          ]
        }
      ]
    },
    {
      "cell_type": "code",
      "source": [
        "format(print(pages_content[1][\"text\"]))"
      ],
      "metadata": {
        "colab": {
          "base_uri": "https://localhost:8080/",
          "height": 350
        },
        "id": "8aJ-0ryTTFiv",
        "outputId": "6c026008-a832-4e00-cea4-9464fb6627e5"
      },
      "execution_count": null,
      "outputs": [
        {
          "output_type": "stream",
          "name": "stdout",
          "text": [
            "Trump vows tariffs on Mexico, Canada and China on day one\n",
            "\n",
            "Reuters\n",
            "\n",
            "Donald Trump says he will hit China, Mexico and Canada with new tariffs on day one of his presidency, in an effort to force them to crack down on illegal immigration and drug smuggling into the US. The US president-elect said he would sign an executive order imposing a 25% tariff on all goods coming from Mexico and Canada, after being inaugurated on 20 January 2025. He also said \"we will be charging China an additional 10% tariff, above any additional tariffs\" until it cracked down on fentanyl smuggling. The threat could mark a major escalation in tensions with the US's three top trading partners. It could also lead to higher prices for Americans, since tariffs work as a form of tax on imports.\n",
            "\n",
            "The US is the world's largest importer. China, Mexico and Canada account for about 40% of the $3.2tn (£2.6tn) of goods it imports each year, according to official data. China has defended its efforts to stop the flow of illegal drugs, and has warned that there can be no winner in a trade war between the two. After Trump made his tariff threat, he spoke to Canada's Prime Minister Justin Trudeau for about 10 minutes, discussing trade and border security, a Canadian government official told the BBC. They had a \"good discussion\", the source said. During the call, Trudeau pointed out that the number of migrants crossing the Canadian border was much smaller compared to the US-Mexico border, the official said. Mexico's finance ministry said: \"Mexico is the United States' top trade partner, and the USMCA provides a framework of certainty for national and international investors.\"\n",
            "\n",
            "The measures have the potential to cause disruptions to the global supply chain and would hit the three countries targeted by the tariffs hard. The tariffs on Mexico and Canada will remain in place until the two countries clamp down on drugs, particularly fentanyl, and migrants illegally crossing the border, Trump said in a post on his Truth Social platform. \"Both Mexico and Canada have the absolute right and power to easily solve this long simmering problem,\" he wrote. \"It is time for them to pay a very big price!\" In a follow-up Truth Social post, Trump attacked Beijing for failing to follow through on promises that he said Chinese officials made to carry out the death penalty for people caught dealing fentanyl, a synthetic opioid. A spokesperson for the Chinese embassy in Washington told the BBC \"the idea of China knowingly allowing fentanyl precursors to flow into the United States runs completely counter to facts and reality\". \"China believes that China-US economic and trade cooperation is mutually beneficial in nature. No one will win a trade war or a tariff war,\" he added. The Biden administration has been calling on Beijing to do more to stop the production of ingredients used in fentanyl, which Washington estimates killed almost 75,000 Americans last year. During his election campaign, Trump threatened Mexico and China with tariffs of up to 100%, if he deemed them necessary, much higher than those he put in place during his first term in office. Trump has also said he will end China's most-favoured-nation trading status with the US - the most advantageous terms Washington offers on tariffs and other restrictions. Last year, more than 80% of Mexico's exports went to the US, while around 75% of Canada's went to its southern neighbour. Even after years of a bitter trade dispute between the world's two biggest economies, the US still accounts for about 15% of China's exports.\n",
            "\n",
            "How do tariffs work?\n",
            "\n",
            "A tariff is a domestic tax levied on goods as they enter the country, proportional to the value of the import. So a car imported to the US with a value of $50,000 subject to a 25% tariff, would face a $12,500 charge. Tariffs are a central part of Trump's economic vision - he sees them as a way of growing the US economy, protecting jobs and raising tax revenue. He has previously claimed that these taxes are \"not going to be a cost to you, it’s a cost to another country\". This is almost universally regarded by economists as misleading. The charge is physically paid by the domestic company that imports the goods, not the foreign company that exports them. So, in that sense, it is a straightforward tax paid by domestic US firms to the US government. Trump imposed a number of tariffs in his first term of office, many of which have been kept in place by his successor, President Joe Biden. Economic studies suggest most of the economic burden was ultimately borne by US consumers. It was not immediately clear whether Trump's \"additional 10% tariff, above any additional tariffs\" earmarked for China were on top of the 25% he was planning for Canada and Mexico.\n",
            "\n",
            "What is Trump's strategy?\n",
            "\n",
            "The move is \"clearly consistent with his promise that he made during the campaign to utilise tariffs as a weapon to accomplish many of his policy initiatives,\" Stephen Roach, Senior Fellow at the Paul Tsai China Center of Yale Law School, told the BBC's Business Today programme. Trump's pick for Treasury Secretary, Scott Bessent, has previously suggested that the president-elect's threats to impose major tariff hikes were part of his negotiating strategy. “My general view is that at the end of the day, he's a free trader,\" Bessent said of Trump in an interview with the Financial Times before he was nominated for the role. “It’s escalate to de-escalate.” It comes as the Chinese economy is in a significantly more vulnerable position than it was during the previous Trump presidency. The country has been struggling with a number of serious issues, including an ongoing property market crisis, weak domestic demand and growing local government debt. The new tariffs appear to break the terms of the US-Mexico-Canada Agreement (USMCA) on trade. The deal, which Trump signed into law, took effect in 2020. It continued a largely duty-free trading relationship between the three neighbouring countries. Outside the official reaction from the three countries affected, the response has been critical. Doug Ford, the premier of the Canadian province of Ontario, said Trump's planned tariff would be \"devastating to workers and jobs in both Canada and the US\". Leader of the Mexican senate, Gerardo Fernández, asked: \"What tariffs should we impose on their [America's] goods until they stop consuming drugs and illegally exporting weapons to our homeland?\"\n"
          ]
        },
        {
          "output_type": "execute_result",
          "data": {
            "text/plain": [
              "'None'"
            ],
            "application/vnd.google.colaboratory.intrinsic+json": {
              "type": "string"
            }
          },
          "metadata": {},
          "execution_count": 18
        }
      ]
    },
    {
      "cell_type": "code",
      "source": [
        "# We'll use an embedding model to compute our documents' embeddings\n",
        "from langchain_openai import OpenAIEmbeddings\n",
        "\n",
        "# We'll store the documents and their embeddings in the deep lake vector db\n",
        "from langchain.vectorstores import DeepLake as LangChainDeepLake\n",
        "\n",
        "# Setup deep lake\n",
        "embeddings = OpenAIEmbeddings(model=\"text-embedding-ada-002\")\n",
        "\n",
        "# create Deep Lake dataset\n",
        "# TODO: use your organization id here. (by default, org id is your username)\n",
        "my_activeloop_org_id = \"webdiner6\"\n",
        "my_activeloop_dataset_name = \"financial_analyst\"\n",
        "dataset_path = f\"hub://{my_activeloop_org_id}/{my_activeloop_dataset_name}\"\n",
        "#db = deeplake(dataset_path=dataset_path, embedding_function=embeddings)\n",
        "#DeepLake.from_documents(texts, embeddings, dataset_path=dataset_path)"
      ],
      "metadata": {
        "id": "jEQUHOtWTPqU",
        "colab": {
          "base_uri": "https://localhost:8080/"
        },
        "outputId": "e91eef6a-6f52-45d3-845f-94f82070f671"
      },
      "execution_count": null,
      "outputs": [
        {
          "output_type": "stream",
          "name": "stderr",
          "text": [
            "/usr/local/lib/python3.10/dist-packages/deeplake/util/check_latest_version.py:32: UserWarning: A newer version of deeplake (4.1.3) is available. It's recommended that you update to the latest version using `pip install -U deeplake`.\n",
            "  warnings.warn(\n"
          ]
        }
      ]
    },
    {
      "cell_type": "code",
      "source": [
        "from langchain.document_loaders import TextLoader\n",
        "from langchain.text_splitter import RecursiveCharacterTextSplitter\n",
        "\n",
        "text_splitter = RecursiveCharacterTextSplitter(chunk_size=1000, chunk_overlap=100)\n",
        "\n",
        "all_texts = []\n",
        "for d in pages_content:\n",
        "    chunks = text_splitter.split_text(d[\"text\"])\n",
        "    for chunk in chunks:\n",
        "        all_texts.append(chunk)"
      ],
      "metadata": {
        "id": "IgLa5WE2iDxj"
      },
      "execution_count": null,
      "outputs": []
    },
    {
      "cell_type": "code",
      "source": [
        "#from langchain_community.document_loaders import TextLoader\n",
        "#from langchain_text_splitters import CharacterTextSplitter\n",
        "\n",
        "#loader = TextLoader(pages_content[1][\"text\"])\n",
        "#documents = loader.load()\n",
        "#text_splitter = CharacterTextSplitter(chunk_size=1000, chunk_overlap=0)\n",
        "#docs = text_splitter.split_documents(documents)\n",
        "\n",
        "#embeddings = OpenAIEmbeddings()"
      ],
      "metadata": {
        "colab": {
          "base_uri": "https://localhost:8080/",
          "height": 1000
        },
        "id": "IjuQmHq3IHrk",
        "outputId": "c14b3eeb-f322-44a2-ab6d-3879967aa8e1"
      },
      "execution_count": null,
      "outputs": [
        {
          "output_type": "error",
          "ename": "RuntimeError",
          "evalue": "Error loading Trump vows tariffs on Mexico, Canada and China on day one\n\nReuters\n\nDonald Trump says he will hit China, Mexico and Canada with new tariffs on day one of his presidency, in an effort to force them to crack down on illegal immigration and drug smuggling into the US. The US president-elect said he would sign an executive order imposing a 25% tariff on all goods coming from Mexico and Canada, after being inaugurated on 20 January 2025. He also said \"we will be charging China an additional 10% tariff, above any additional tariffs\" until it cracked down on fentanyl smuggling. The threat could mark a major escalation in tensions with the US's three top trading partners. It could also lead to higher prices for Americans, since tariffs work as a form of tax on imports.\n\nThe US is the world's largest importer. China, Mexico and Canada account for about 40% of the $3.2tn (£2.6tn) of goods it imports each year, according to official data. China has defended its efforts to stop the flow of illegal drugs, and has warned that there can be no winner in a trade war between the two. After Trump made his tariff threat, he spoke to Canada's Prime Minister Justin Trudeau for about 10 minutes, discussing trade and border security, a Canadian government official told the BBC. They had a \"good discussion\", the source said. During the call, Trudeau pointed out that the number of migrants crossing the Canadian border was much smaller compared to the US-Mexico border, the official said. Mexico's finance ministry said: \"Mexico is the United States' top trade partner, and the USMCA provides a framework of certainty for national and international investors.\"\n\nThe measures have the potential to cause disruptions to the global supply chain and would hit the three countries targeted by the tariffs hard. The tariffs on Mexico and Canada will remain in place until the two countries clamp down on drugs, particularly fentanyl, and migrants illegally crossing the border, Trump said in a post on his Truth Social platform. \"Both Mexico and Canada have the absolute right and power to easily solve this long simmering problem,\" he wrote. \"It is time for them to pay a very big price!\" In a follow-up Truth Social post, Trump attacked Beijing for failing to follow through on promises that he said Chinese officials made to carry out the death penalty for people caught dealing fentanyl, a synthetic opioid. A spokesperson for the Chinese embassy in Washington told the BBC \"the idea of China knowingly allowing fentanyl precursors to flow into the United States runs completely counter to facts and reality\". \"China believes that China-US economic and trade cooperation is mutually beneficial in nature. No one will win a trade war or a tariff war,\" he added. The Biden administration has been calling on Beijing to do more to stop the production of ingredients used in fentanyl, which Washington estimates killed almost 75,000 Americans last year. During his election campaign, Trump threatened Mexico and China with tariffs of up to 100%, if he deemed them necessary, much higher than those he put in place during his first term in office. Trump has also said he will end China's most-favoured-nation trading status with the US - the most advantageous terms Washington offers on tariffs and other restrictions. Last year, more than 80% of Mexico's exports went to the US, while around 75% of Canada's went to its southern neighbour. Even after years of a bitter trade dispute between the world's two biggest economies, the US still accounts for about 15% of China's exports.\n\nHow do tariffs work?\n\nA tariff is a domestic tax levied on goods as they enter the country, proportional to the value of the import. So a car imported to the US with a value of $50,000 subject to a 25% tariff, would face a $12,500 charge. Tariffs are a central part of Trump's economic vision - he sees them as a way of growing the US economy, protecting jobs and raising tax revenue. He has previously claimed that these taxes are \"not going to be a cost to you, it’s a cost to another country\". This is almost universally regarded by economists as misleading. The charge is physically paid by the domestic company that imports the goods, not the foreign company that exports them. So, in that sense, it is a straightforward tax paid by domestic US firms to the US government. Trump imposed a number of tariffs in his first term of office, many of which have been kept in place by his successor, President Joe Biden. Economic studies suggest most of the economic burden was ultimately borne by US consumers. It was not immediately clear whether Trump's \"additional 10% tariff, above any additional tariffs\" earmarked for China were on top of the 25% he was planning for Canada and Mexico.\n\nWhat is Trump's strategy?\n\nThe move is \"clearly consistent with his promise that he made during the campaign to utilise tariffs as a weapon to accomplish many of his policy initiatives,\" Stephen Roach, Senior Fellow at the Paul Tsai China Center of Yale Law School, told the BBC's Business Today programme. Trump's pick for Treasury Secretary, Scott Bessent, has previously suggested that the president-elect's threats to impose major tariff hikes were part of his negotiating strategy. “My general view is that at the end of the day, he's a free trader,\" Bessent said of Trump in an interview with the Financial Times before he was nominated for the role. “It’s escalate to de-escalate.” It comes as the Chinese economy is in a significantly more vulnerable position than it was during the previous Trump presidency. The country has been struggling with a number of serious issues, including an ongoing property market crisis, weak domestic demand and growing local government debt. The new tariffs appear to break the terms of the US-Mexico-Canada Agreement (USMCA) on trade. The deal, which Trump signed into law, took effect in 2020. It continued a largely duty-free trading relationship between the three neighbouring countries. Outside the official reaction from the three countries affected, the response has been critical. Doug Ford, the premier of the Canadian province of Ontario, said Trump's planned tariff would be \"devastating to workers and jobs in both Canada and the US\". Leader of the Mexican senate, Gerardo Fernández, asked: \"What tariffs should we impose on their [America's] goods until they stop consuming drugs and illegally exporting weapons to our homeland?\"",
          "traceback": [
            "\u001b[0;31m---------------------------------------------------------------------------\u001b[0m",
            "\u001b[0;31mOSError\u001b[0m                                   Traceback (most recent call last)",
            "\u001b[0;32m/usr/local/lib/python3.10/dist-packages/langchain_community/document_loaders/text.py\u001b[0m in \u001b[0;36mlazy_load\u001b[0;34m(self)\u001b[0m\n\u001b[1;32m     41\u001b[0m         \u001b[0;32mtry\u001b[0m\u001b[0;34m:\u001b[0m\u001b[0;34m\u001b[0m\u001b[0;34m\u001b[0m\u001b[0m\n\u001b[0;32m---> 42\u001b[0;31m             \u001b[0;32mwith\u001b[0m \u001b[0mopen\u001b[0m\u001b[0;34m(\u001b[0m\u001b[0mself\u001b[0m\u001b[0;34m.\u001b[0m\u001b[0mfile_path\u001b[0m\u001b[0;34m,\u001b[0m \u001b[0mencoding\u001b[0m\u001b[0;34m=\u001b[0m\u001b[0mself\u001b[0m\u001b[0;34m.\u001b[0m\u001b[0mencoding\u001b[0m\u001b[0;34m)\u001b[0m \u001b[0;32mas\u001b[0m \u001b[0mf\u001b[0m\u001b[0;34m:\u001b[0m\u001b[0;34m\u001b[0m\u001b[0;34m\u001b[0m\u001b[0m\n\u001b[0m\u001b[1;32m     43\u001b[0m                 \u001b[0mtext\u001b[0m \u001b[0;34m=\u001b[0m \u001b[0mf\u001b[0m\u001b[0;34m.\u001b[0m\u001b[0mread\u001b[0m\u001b[0;34m(\u001b[0m\u001b[0;34m)\u001b[0m\u001b[0;34m\u001b[0m\u001b[0;34m\u001b[0m\u001b[0m\n",
            "\u001b[0;31mOSError\u001b[0m: [Errno 36] File name too long: 'Trump vows tariffs on Mexico, Canada and China on day one\\n\\nReuters\\n\\nDonald Trump says he will hit China, Mexico and Canada with new tariffs on day one of his presidency, in an effort to force them to crack down on illegal immigration and drug smuggling into the US. The US president-elect said he would sign an executive order imposing a 25% tariff on all goods coming from Mexico and Canada, after being inaugurated on 20 January 2025. He also said \"we will be charging China an additional 10% tariff, above any additional tariffs\" until it cracked down on fentanyl smuggling. The threat could mark a major escalation in tensions with the US\\'s three top trading partners. It could also lead to higher prices for Americans, since tariffs work as a form of tax on imports.\\n\\nThe US is the world\\'s largest importer. China, Mexico and Canada account for about 40% of the $3.2tn (£2.6tn) of goods it imports each year, according to official data. China has defended its efforts to stop the flow of illegal drugs, and has warned that there can be no winner in a trade war between the two. After Trump made his tariff threat, he spoke to Canada\\'s Prime Minister Justin Trudeau for about 10 minutes, discussing trade and border security, a Canadian government official told the BBC. They had a \"good discussion\", the source said. During the call, Trudeau pointed out that the number of migrants crossing the Canadian border was much smaller com...",
            "\nThe above exception was the direct cause of the following exception:\n",
            "\u001b[0;31mRuntimeError\u001b[0m                              Traceback (most recent call last)",
            "\u001b[0;32m<ipython-input-19-9bd80b412321>\u001b[0m in \u001b[0;36m<cell line: 5>\u001b[0;34m()\u001b[0m\n\u001b[1;32m      3\u001b[0m \u001b[0;34m\u001b[0m\u001b[0m\n\u001b[1;32m      4\u001b[0m \u001b[0mloader\u001b[0m \u001b[0;34m=\u001b[0m \u001b[0mTextLoader\u001b[0m\u001b[0;34m(\u001b[0m\u001b[0mpages_content\u001b[0m\u001b[0;34m[\u001b[0m\u001b[0;36m1\u001b[0m\u001b[0;34m]\u001b[0m\u001b[0;34m[\u001b[0m\u001b[0;34m\"text\"\u001b[0m\u001b[0;34m]\u001b[0m\u001b[0;34m)\u001b[0m\u001b[0;34m\u001b[0m\u001b[0;34m\u001b[0m\u001b[0m\n\u001b[0;32m----> 5\u001b[0;31m \u001b[0mdocuments\u001b[0m \u001b[0;34m=\u001b[0m \u001b[0mloader\u001b[0m\u001b[0;34m.\u001b[0m\u001b[0mload\u001b[0m\u001b[0;34m(\u001b[0m\u001b[0;34m)\u001b[0m\u001b[0;34m\u001b[0m\u001b[0;34m\u001b[0m\u001b[0m\n\u001b[0m\u001b[1;32m      6\u001b[0m \u001b[0mtext_splitter\u001b[0m \u001b[0;34m=\u001b[0m \u001b[0mCharacterTextSplitter\u001b[0m\u001b[0;34m(\u001b[0m\u001b[0mchunk_size\u001b[0m\u001b[0;34m=\u001b[0m\u001b[0;36m1000\u001b[0m\u001b[0;34m,\u001b[0m \u001b[0mchunk_overlap\u001b[0m\u001b[0;34m=\u001b[0m\u001b[0;36m0\u001b[0m\u001b[0;34m)\u001b[0m\u001b[0;34m\u001b[0m\u001b[0;34m\u001b[0m\u001b[0m\n\u001b[1;32m      7\u001b[0m \u001b[0mdocs\u001b[0m \u001b[0;34m=\u001b[0m \u001b[0mtext_splitter\u001b[0m\u001b[0;34m.\u001b[0m\u001b[0msplit_documents\u001b[0m\u001b[0;34m(\u001b[0m\u001b[0mdocuments\u001b[0m\u001b[0;34m)\u001b[0m\u001b[0;34m\u001b[0m\u001b[0;34m\u001b[0m\u001b[0m\n",
            "\u001b[0;32m/usr/local/lib/python3.10/dist-packages/langchain_core/document_loaders/base.py\u001b[0m in \u001b[0;36mload\u001b[0;34m(self)\u001b[0m\n\u001b[1;32m     29\u001b[0m     \u001b[0;32mdef\u001b[0m \u001b[0mload\u001b[0m\u001b[0;34m(\u001b[0m\u001b[0mself\u001b[0m\u001b[0;34m)\u001b[0m \u001b[0;34m->\u001b[0m \u001b[0mlist\u001b[0m\u001b[0;34m[\u001b[0m\u001b[0mDocument\u001b[0m\u001b[0;34m]\u001b[0m\u001b[0;34m:\u001b[0m\u001b[0;34m\u001b[0m\u001b[0;34m\u001b[0m\u001b[0m\n\u001b[1;32m     30\u001b[0m         \u001b[0;34m\"\"\"Load data into Document objects.\"\"\"\u001b[0m\u001b[0;34m\u001b[0m\u001b[0;34m\u001b[0m\u001b[0m\n\u001b[0;32m---> 31\u001b[0;31m         \u001b[0;32mreturn\u001b[0m \u001b[0mlist\u001b[0m\u001b[0;34m(\u001b[0m\u001b[0mself\u001b[0m\u001b[0;34m.\u001b[0m\u001b[0mlazy_load\u001b[0m\u001b[0;34m(\u001b[0m\u001b[0;34m)\u001b[0m\u001b[0;34m)\u001b[0m\u001b[0;34m\u001b[0m\u001b[0;34m\u001b[0m\u001b[0m\n\u001b[0m\u001b[1;32m     32\u001b[0m \u001b[0;34m\u001b[0m\u001b[0m\n\u001b[1;32m     33\u001b[0m     \u001b[0;32masync\u001b[0m \u001b[0;32mdef\u001b[0m \u001b[0maload\u001b[0m\u001b[0;34m(\u001b[0m\u001b[0mself\u001b[0m\u001b[0;34m)\u001b[0m \u001b[0;34m->\u001b[0m \u001b[0mlist\u001b[0m\u001b[0;34m[\u001b[0m\u001b[0mDocument\u001b[0m\u001b[0;34m]\u001b[0m\u001b[0;34m:\u001b[0m\u001b[0;34m\u001b[0m\u001b[0;34m\u001b[0m\u001b[0m\n",
            "\u001b[0;32m/usr/local/lib/python3.10/dist-packages/langchain_community/document_loaders/text.py\u001b[0m in \u001b[0;36mlazy_load\u001b[0;34m(self)\u001b[0m\n\u001b[1;32m     56\u001b[0m                 \u001b[0;32mraise\u001b[0m \u001b[0mRuntimeError\u001b[0m\u001b[0;34m(\u001b[0m\u001b[0;34mf\"Error loading {self.file_path}\"\u001b[0m\u001b[0;34m)\u001b[0m \u001b[0;32mfrom\u001b[0m \u001b[0me\u001b[0m\u001b[0;34m\u001b[0m\u001b[0;34m\u001b[0m\u001b[0m\n\u001b[1;32m     57\u001b[0m         \u001b[0;32mexcept\u001b[0m \u001b[0mException\u001b[0m \u001b[0;32mas\u001b[0m \u001b[0me\u001b[0m\u001b[0;34m:\u001b[0m\u001b[0;34m\u001b[0m\u001b[0;34m\u001b[0m\u001b[0m\n\u001b[0;32m---> 58\u001b[0;31m             \u001b[0;32mraise\u001b[0m \u001b[0mRuntimeError\u001b[0m\u001b[0;34m(\u001b[0m\u001b[0;34mf\"Error loading {self.file_path}\"\u001b[0m\u001b[0;34m)\u001b[0m \u001b[0;32mfrom\u001b[0m \u001b[0me\u001b[0m\u001b[0;34m\u001b[0m\u001b[0;34m\u001b[0m\u001b[0m\n\u001b[0m\u001b[1;32m     59\u001b[0m \u001b[0;34m\u001b[0m\u001b[0m\n\u001b[1;32m     60\u001b[0m         \u001b[0mmetadata\u001b[0m \u001b[0;34m=\u001b[0m \u001b[0;34m{\u001b[0m\u001b[0;34m\"source\"\u001b[0m\u001b[0;34m:\u001b[0m \u001b[0mstr\u001b[0m\u001b[0;34m(\u001b[0m\u001b[0mself\u001b[0m\u001b[0;34m.\u001b[0m\u001b[0mfile_path\u001b[0m\u001b[0;34m)\u001b[0m\u001b[0;34m}\u001b[0m\u001b[0;34m\u001b[0m\u001b[0;34m\u001b[0m\u001b[0m\n",
            "\u001b[0;31mRuntimeError\u001b[0m: Error loading Trump vows tariffs on Mexico, Canada and China on day one\n\nReuters\n\nDonald Trump says he will hit China, Mexico and Canada with new tariffs on day one of his presidency, in an effort to force them to crack down on illegal immigration and drug smuggling into the US. The US president-elect said he would sign an executive order imposing a 25% tariff on all goods coming from Mexico and Canada, after being inaugurated on 20 January 2025. He also said \"we will be charging China an additional 10% tariff, above any additional tariffs\" until it cracked down on fentanyl smuggling. The threat could mark a major escalation in tensions with the US's three top trading partners. It could also lead to higher prices for Americans, since tariffs work as a form of tax on imports.\n\nThe US is the world's largest importer. China, Mexico and Canada account for about 40% of the $3.2tn (£2.6tn) of goods it imports each year, according to official data. China has defended its efforts to stop the flow of illegal drugs, and has warned that there can be no winner in a trade war between the two. After Trump made his tariff threat, he spoke to Canada's Prime Minister Justin Trudeau for about 10 minutes, discussing trade and border security, a Canadian government official told the BBC. They had a \"good discussion\", the source said. During the call, Trudeau pointed out that the number of migrants crossing the Canadian border was much smaller compared to the US-Mexico border, the official said. Mexico's finance ministry said: \"Mexico is the United States' top trade partner, and the USMCA provides a framework of certainty for national and international investors.\"\n\nThe measures have the potential to cause disruptions to the global supply chain and would hit the three countries targeted by the tariffs hard. The tariffs on Mexico and Canada will remain in place until the two countries clamp down on drugs, particularly fentanyl, and migrants illegally crossing the border, Trump said in a post on his Truth Social platform. \"Both Mexico and Canada have the absolute right and power to easily solve this long simmering problem,\" he wrote. \"It is time for them to pay a very big price!\" In a follow-up Truth Social post, Trump attacked Beijing for failing to follow through on promises that he said Chinese officials made to carry out the death penalty for people caught dealing fentanyl, a synthetic opioid. A spokesperson for the Chinese embassy in Washington told the BBC \"the idea of China knowingly allowing fentanyl precursors to flow into the United States runs completely counter to facts and reality\". \"China believes that China-US economic and trade cooperation is mutually beneficial in nature. No one will win a trade war or a tariff war,\" he added. The Biden administration has been calling on Beijing to do more to stop the production of ingredients used in fentanyl, which Washington estimates killed almost 75,000 Americans last year. During his election campaign, Trump threatened Mexico and China with tariffs of up to 100%, if he deemed them necessary, much higher than those he put in place during his first term in office. Trump has also sai...\n\nHow do tariffs work?\n\nA tariff is a domestic tax levied on goods as they enter the country, proportional to the value of the import. So a car imported to the US with a value of $50,000 subject to a 25% tariff, would face a $12,500 charge. Tariffs are a central part of Trump's economic vision - he sees them as a way of growing the US economy, protecting jobs and raising tax revenue. He has previously claimed that these taxes are \"not going to be a cost to you, it’s a cost to another country\". This is almost universally regarded by economists as misleading. The charge is physically paid by the domestic company that imports the goods, not the foreign company that exports them. So, in that sense, it is a straightforward tax paid by domestic US firms to the US government. Trump imposed a number of tariffs in his first term of office, many of which have been kept in place by his successor, President Joe Biden. Economic studies suggest most of the economic burden was ultimately borne by US consumers. It was not immediately clear whether Trump's \"additional 10% tariff, above any additional tariffs\" earmarked for China were on top of the 25% he was planning for Canada and Mexico.\n\nWhat is Trump's strategy?\n\nThe move is \"clearly consistent with his promise that he made during the campaign to utilise tariffs as a weapon to accomplish many of his policy initiatives,\" Stephen Roach, Senior Fellow at the Paul Tsai China Center of Yale Law School, told the BBC's Business Today programme. Trump's pick for Treasury Secretary, Scott Bessent, has previously suggested that the president-elect's threats to impose major tariff hikes were part of his negotiating strategy. “My general view is that at the end of the day, he's a free trader,\" Bessent said of Trump in an interview with the Financial Times before he was nominated for the role. “It’s escalate to de-escalate.” It comes as the Chinese economy is in a significantly more vulnerable position than it was during the previous Trump presidency. The country has been struggling with a number of serious issues, including an ongoing property market crisis, weak domestic demand and growing local government debt. The new tariffs appear to break the terms of the US-Mexico-Canada Agreement (USMCA) on trade. The deal, which Trump signed into law, took effect in 2020. It continued a largely duty-free trading relationship between the three neighbouring countries. Outside the official reaction from the three countries affected, the response has been critical. Doug Ford, the premier of the Canadian province of Ontario, said Trump's planned tariff would be \"devastating to workers and jobs in both Canada and the US\". Leader of the Mexican senate, Gerar..."
          ]
        }
      ]
    },
    {
      "cell_type": "code",
      "source": [
        "import deeplake\n",
        "print(deeplake.__version__)\n",
        "#_DEEPLAKE_INSTALLED = True"
      ],
      "metadata": {
        "colab": {
          "base_uri": "https://localhost:8080/"
        },
        "id": "JriL3s2hncvF",
        "outputId": "29b71f48-357b-4b9e-c3c8-e993d8dfa539"
      },
      "execution_count": null,
      "outputs": [
        {
          "output_type": "stream",
          "name": "stdout",
          "text": [
            "3.9.26\n"
          ]
        }
      ]
    },
    {
      "cell_type": "code",
      "source": [
        "db = LangChainDeepLake(dataset_path=dataset_path, embedding=embeddings, overwrite=True)"
      ],
      "metadata": {
        "colab": {
          "base_uri": "https://localhost:8080/"
        },
        "id": "XsH-XvWJiH7a",
        "outputId": "f6aca641-837b-436e-bf89-29801d85c98b"
      },
      "execution_count": null,
      "outputs": [
        {
          "output_type": "stream",
          "name": "stdout",
          "text": [
            "Your Deep Lake dataset has been successfully created!\n"
          ]
        },
        {
          "output_type": "stream",
          "name": "stderr",
          "text": []
        }
      ]
    },
    {
      "cell_type": "code",
      "source": [
        "db.add_texts(all_texts)"
      ],
      "metadata": {
        "colab": {
          "base_uri": "https://localhost:8080/"
        },
        "id": "784eqJPrr0Ce",
        "outputId": "f4837a01-b207-4fe1-9662-7b6f57542c62"
      },
      "execution_count": null,
      "outputs": [
        {
          "output_type": "stream",
          "name": "stderr",
          "text": [
            "Creating 24 embeddings in 1 batches of size 24:: 100%|██████████| 1/1 [00:03<00:00,  3.52s/it]"
          ]
        },
        {
          "output_type": "stream",
          "name": "stdout",
          "text": [
            "Dataset(path='hub://webdiner6/financial_analyst', tensors=['text', 'metadata', 'embedding', 'id'])\n",
            "\n",
            "  tensor      htype      shape      dtype  compression\n",
            "  -------    -------    -------    -------  ------- \n",
            "   text       text      (24, 1)      str     None   \n",
            " metadata     json      (24, 1)      str     None   \n",
            " embedding  embedding  (24, 1536)  float32   None   \n",
            "    id        text      (24, 1)      str     None   \n"
          ]
        },
        {
          "output_type": "stream",
          "name": "stderr",
          "text": [
            "\n"
          ]
        },
        {
          "output_type": "execute_result",
          "data": {
            "text/plain": [
              "['b6ddfd6e-d353-11ef-974d-0242ac1c0002',\n",
              " 'b6ddffbc-d353-11ef-974d-0242ac1c0002',\n",
              " 'b6de0084-d353-11ef-974d-0242ac1c0002',\n",
              " 'b6de014c-d353-11ef-974d-0242ac1c0002',\n",
              " 'b6de021e-d353-11ef-974d-0242ac1c0002',\n",
              " 'b6de02fa-d353-11ef-974d-0242ac1c0002',\n",
              " 'b6de03ae-d353-11ef-974d-0242ac1c0002',\n",
              " 'b6de046c-d353-11ef-974d-0242ac1c0002',\n",
              " 'b6de0520-d353-11ef-974d-0242ac1c0002',\n",
              " 'b6de05d4-d353-11ef-974d-0242ac1c0002',\n",
              " 'b6de067e-d353-11ef-974d-0242ac1c0002',\n",
              " 'b6de0728-d353-11ef-974d-0242ac1c0002',\n",
              " 'b6de07d2-d353-11ef-974d-0242ac1c0002',\n",
              " 'b6de0886-d353-11ef-974d-0242ac1c0002',\n",
              " 'b6de0930-d353-11ef-974d-0242ac1c0002',\n",
              " 'b6de09da-d353-11ef-974d-0242ac1c0002',\n",
              " 'b6de0a8e-d353-11ef-974d-0242ac1c0002',\n",
              " 'b6de0b42-d353-11ef-974d-0242ac1c0002',\n",
              " 'b6de0bf6-d353-11ef-974d-0242ac1c0002',\n",
              " 'b6de0caa-d353-11ef-974d-0242ac1c0002',\n",
              " 'b6de0d68-d353-11ef-974d-0242ac1c0002',\n",
              " 'b6de0e12-d353-11ef-974d-0242ac1c0002',\n",
              " 'b6de0ebc-d353-11ef-974d-0242ac1c0002',\n",
              " 'b6de0f66-d353-11ef-974d-0242ac1c0002']"
            ]
          },
          "metadata": {},
          "execution_count": 10
        }
      ]
    },
    {
      "cell_type": "markdown",
      "source": [
        "##Create a Retriever Tool"
      ],
      "metadata": {
        "id": "kFmyd29waB_w"
      }
    },
    {
      "cell_type": "code",
      "source": [
        "################################OLD CODE########################################\n",
        "\n",
        "# Get the retriever object from the deep lake db object and set the number\n",
        "# of retrieved documents to 3\n",
        "retriever = db.as_retriever()\n",
        "retriever.search_kwargs['k'] = 3\n",
        "\n",
        "# We define some variables that will be used inside our custom tool\n",
        "CUSTOM_TOOL_DOCS_SEPARATOR =\"\\n---------------\\n\" # how to join together the retrieved docs to form a single string\n",
        "\n",
        "# This is the function that defines our custom tool that retrieves relevant\n",
        "# docs from Deep Lake\n",
        "def retrieve_n_docs_tool(query: str) -> str:\n",
        "    \"\"\"Searches for relevant documents that may contain the answer to the query.\"\"\"\n",
        "    docs = retriever.get_relevant_documents(query)\n",
        "    CUSTOM_TOOL_DOCS_SEPARATOR =\"\\n---------------\\n\"\n",
        "    texts = [doc.page_content for doc in docs]\n",
        "    texts_merged = \"---------------\\n\" + CUSTOM_TOOL_DOCS_SEPARATOR.join(texts) + \"\\n---------------\"\n",
        "    return texts_merged"
      ],
      "metadata": {
        "id": "Admb_s0fKGJD"
      },
      "execution_count": null,
      "outputs": []
    },
    {
      "cell_type": "code",
      "source": [
        "from pydantic import BaseModel, Field\n",
        "\n",
        "class retriever_docs_input(BaseModel):\n",
        "    q: str = Field(description=\"query from the user\")\n",
        "\n",
        "\n",
        "def retrieve_docs_f(q: str) -> str:\n",
        "    \"\"\"Searches for relevant documents that may contain the answer to the query.\"\"\"\n",
        "    retriever = db.as_retriever()\n",
        "    retriever.search_kwargs['k'] = 3\n",
        "    docs = retriever.get_relevant_documents(q)\n",
        "    texts = [doc.page_content for doc in docs]\n",
        "    texts_merged = \"---------------\\n\" + CUSTOM_TOOL_DOCS_SEPARATOR.join(texts) + \"\\n---------------\"\n",
        "    return texts_merged\n",
        "\n",
        "from langchain_core.tools import StructuredTool\n",
        "\n",
        "\n",
        "retrieve_docs = StructuredTool.from_function(\n",
        "    func=retrieve_docs_f,\n",
        "    name=\"retrieve_docs\",\n",
        "    description=\"Searches for relevant documents that may contain the answer to the query.\",\n",
        "    args_schema=retriever_docs_input,\n",
        "    return_direct=True,\n",
        "    # coroutine= ... <- you can specify an async method if desired as well\n",
        ")\n"
      ],
      "metadata": {
        "id": "SnqE7I9HaGxs"
      },
      "execution_count": null,
      "outputs": []
    },
    {
      "cell_type": "code",
      "source": [
        "tools = [retrieve_docs]"
      ],
      "metadata": {
        "id": "twyLERbRdIeQ"
      },
      "execution_count": null,
      "outputs": []
    },
    {
      "cell_type": "markdown",
      "source": [
        "# Building the Plan and Execute Agent"
      ],
      "metadata": {
        "id": "XBQZQ_llgBec"
      }
    },
    {
      "cell_type": "code",
      "source": [
        "!pip install -q langgraph"
      ],
      "metadata": {
        "colab": {
          "base_uri": "https://localhost:8080/"
        },
        "id": "DvO9QZxGgOYH",
        "outputId": "dc038122-e404-46ca-f917-81b7b103afea"
      },
      "execution_count": null,
      "outputs": [
        {
          "output_type": "stream",
          "name": "stdout",
          "text": [
            "\u001b[?25l   \u001b[90m━━━━━━━━━━━━━━━━━━━━━━━━━━━━━━━━━━━━━━━━\u001b[0m \u001b[32m0.0/138.2 kB\u001b[0m \u001b[31m?\u001b[0m eta \u001b[36m-:--:--\u001b[0m\r\u001b[2K   \u001b[90m━━━━━━━━━━━━━━━━━━━━━━━━━━━━━━━━━━━━━━━━\u001b[0m \u001b[32m138.2/138.2 kB\u001b[0m \u001b[31m10.0 MB/s\u001b[0m eta \u001b[36m0:00:00\u001b[0m\n",
            "\u001b[?25h\u001b[?25l   \u001b[90m━━━━━━━━━━━━━━━━━━━━━━━━━━━━━━━━━━━━━━━━\u001b[0m \u001b[32m0.0/44.7 kB\u001b[0m \u001b[31m?\u001b[0m eta \u001b[36m-:--:--\u001b[0m\r\u001b[2K   \u001b[90m━━━━━━━━━━━━━━━━━━━━━━━━━━━━━━━━━━━━━━━━\u001b[0m \u001b[32m44.7/44.7 kB\u001b[0m \u001b[31m3.2 MB/s\u001b[0m eta \u001b[36m0:00:00\u001b[0m\n",
            "\u001b[?25h"
          ]
        }
      ]
    },
    {
      "cell_type": "markdown",
      "source": [
        "## Agent Executor"
      ],
      "metadata": {
        "id": "66fqP3aDmHXc"
      }
    },
    {
      "cell_type": "code",
      "source": [
        "from langchain import hub\n",
        "from langchain_openai import ChatOpenAI\n",
        "\n",
        "from langgraph.prebuilt import create_react_agent\n",
        "\n",
        "# Get the prompt to use - you can modify this!\n",
        "prompt = hub.pull(\"ih/ih-react-agent-executor\")\n",
        "prompt.pretty_print()\n",
        "\n",
        "# Choose the LLM that will drive the agent\n",
        "llm = ChatOpenAI(model=\"gpt-4o-mini\")\n",
        "agent_executor = create_react_agent(llm, tools, state_modifier=prompt)"
      ],
      "metadata": {
        "colab": {
          "base_uri": "https://localhost:8080/"
        },
        "id": "v2UeYUQAexCP",
        "outputId": "344996f5-9491-4e0b-d589-aa4ae6471d4e"
      },
      "execution_count": null,
      "outputs": [
        {
          "output_type": "stream",
          "name": "stdout",
          "text": [
            "================================\u001b[1m System Message \u001b[0m================================\n",
            "\n",
            "You are a helpful assistant.\n",
            "\n",
            "=============================\u001b[1m Messages Placeholder \u001b[0m=============================\n",
            "\n",
            "\u001b[33;1m\u001b[1;3m{messages}\u001b[0m\n"
          ]
        },
        {
          "output_type": "stream",
          "name": "stderr",
          "text": [
            "/usr/local/lib/python3.10/dist-packages/langsmith/client.py:261: LangSmithMissingAPIKeyWarning: API key must be provided when using hosted LangSmith API\n",
            "  warnings.warn(\n"
          ]
        }
      ]
    },
    {
      "cell_type": "markdown",
      "source": [
        "##Define the State"
      ],
      "metadata": {
        "id": "H9zCchRNjXz1"
      }
    },
    {
      "cell_type": "code",
      "source": [
        "import operator\n",
        "from typing import Annotated, List, Tuple\n",
        "from typing_extensions import TypedDict\n",
        "\n",
        "\n",
        "class PlanExecute(TypedDict):\n",
        "    input: str\n",
        "    plan: List[str]\n",
        "    past_steps: Annotated[List[Tuple], operator.add]\n",
        "    response: str"
      ],
      "metadata": {
        "id": "GoEOu7AMjZTN"
      },
      "execution_count": null,
      "outputs": []
    },
    {
      "cell_type": "markdown",
      "source": [
        "## Planning Step"
      ],
      "metadata": {
        "id": "reh0f2VgjdST"
      }
    },
    {
      "cell_type": "code",
      "source": [
        "from pydantic import BaseModel, Field\n",
        "\n",
        "\n",
        "class Plan(BaseModel):\n",
        "    \"\"\"Plan to follow in future\"\"\"\n",
        "\n",
        "    steps: List[str] = Field(\n",
        "        description=\"different steps to follow, should be in sorted order\"\n",
        "    )"
      ],
      "metadata": {
        "id": "Frlc1ouDji2T"
      },
      "execution_count": null,
      "outputs": []
    },
    {
      "cell_type": "code",
      "source": [
        "from langchain_core.prompts import ChatPromptTemplate\n",
        "\n",
        "planner_prompt = ChatPromptTemplate.from_messages(\n",
        "    [\n",
        "        (\n",
        "            \"system\",\n",
        "            \"\"\"For the given objective, come up with a simple step by step plan. \\\n",
        "This plan should involve individual tasks, that if executed correctly will yield the correct answer. Do not add any superfluous steps. \\\n",
        "The result of the final step should be the final answer. Make sure that each step has all the information needed - do not skip steps.\"\"\",\n",
        "        ),\n",
        "        (\"placeholder\", \"{messages}\"),\n",
        "    ]\n",
        ")\n",
        "planner = planner_prompt | ChatOpenAI(\n",
        "    model=\"gpt-4o-mini\", temperature=0\n",
        ").with_structured_output(Plan)"
      ],
      "metadata": {
        "id": "lZJBnR_tjlrh"
      },
      "execution_count": null,
      "outputs": []
    },
    {
      "cell_type": "markdown",
      "source": [
        "## Re-Plan Step"
      ],
      "metadata": {
        "id": "-TDorBhdj6zv"
      }
    },
    {
      "cell_type": "code",
      "source": [
        "from typing import Union\n",
        "\n",
        "\n",
        "class Response(BaseModel):\n",
        "    \"\"\"Response to user.\"\"\"\n",
        "\n",
        "    response: str\n",
        "\n",
        "\n",
        "class Act(BaseModel):\n",
        "    \"\"\"Action to perform.\"\"\"\n",
        "\n",
        "    action: Union[Response, Plan] = Field(\n",
        "        description=\"Action to perform. If you want to respond to user, use Response. \"\n",
        "        \"If you need to further use tools to get the answer, use Plan.\"\n",
        "    )\n",
        "\n",
        "\n",
        "replanner_prompt = ChatPromptTemplate.from_template(\n",
        "    \"\"\"For the given objective, come up with a simple step by step plan. \\\n",
        "This plan should involve individual tasks, that if executed correctly will yield the correct answer. Do not add any superfluous steps. \\\n",
        "The result of the final step should be the final answer. Make sure that each step has all the information needed - do not skip steps.\n",
        "\n",
        "Your objective was this:\n",
        "{input}\n",
        "\n",
        "Your original plan was this:\n",
        "{plan}\n",
        "\n",
        "You have currently done the follow steps:\n",
        "{past_steps}\n",
        "\n",
        "Update your plan accordingly. If no more steps are needed and you can return to the user, then respond with that. Otherwise, fill out the plan. Only add steps to the plan that still NEED to be done. Do not return previously done steps as part of the plan.\"\"\"\n",
        ")\n",
        "\n",
        "\n",
        "replanner = replanner_prompt | ChatOpenAI(\n",
        "    model=\"gpt-4o-mini\", temperature=0\n",
        ").with_structured_output(Act)"
      ],
      "metadata": {
        "id": "HR48Oqiuj3P3"
      },
      "execution_count": null,
      "outputs": []
    },
    {
      "cell_type": "markdown",
      "source": [
        "##Create the Graph"
      ],
      "metadata": {
        "id": "I-24t0SSk3hV"
      }
    },
    {
      "cell_type": "code",
      "source": [
        "from typing import Literal\n",
        "from langgraph.graph import END\n",
        "\n",
        "\n",
        "async def execute_step(state: PlanExecute):\n",
        "    plan = state[\"plan\"]\n",
        "    plan_str = \"\\n\".join(f\"{i+1}. {step}\" for i, step in enumerate(plan))\n",
        "    task = plan[0]\n",
        "    task_formatted = f\"\"\"For the following plan:\n",
        "{plan_str}\\n\\nYou are tasked with executing step {1}, {task}.\"\"\"\n",
        "    agent_response = await agent_executor.ainvoke(\n",
        "        {\"messages\": [(\"user\", task_formatted)]}\n",
        "    )\n",
        "    return {\n",
        "        \"past_steps\": [(task, agent_response[\"messages\"][-1].content)],\n",
        "    }\n",
        "\n",
        "\n",
        "async def plan_step(state: PlanExecute):\n",
        "    plan = await planner.ainvoke({\"messages\": [(\"user\", state[\"input\"])]})\n",
        "    return {\"plan\": plan.steps}\n",
        "\n",
        "\n",
        "async def replan_step(state: PlanExecute):\n",
        "    output = await replanner.ainvoke(state)\n",
        "    if isinstance(output.action, Response):\n",
        "        return {\"response\": output.action.response}\n",
        "    else:\n",
        "        return {\"plan\": output.action.steps}\n",
        "\n",
        "\n",
        "def should_end(state: PlanExecute):\n",
        "    if \"response\" in state and state[\"response\"]:\n",
        "        return END\n",
        "    else:\n",
        "        return \"agent\""
      ],
      "metadata": {
        "id": "fEjIXjH9k4j3"
      },
      "execution_count": null,
      "outputs": []
    },
    {
      "cell_type": "code",
      "source": [
        "from langgraph.graph import StateGraph, START\n",
        "\n",
        "workflow = StateGraph(PlanExecute)\n",
        "\n",
        "# Add the plan node\n",
        "workflow.add_node(\"planner\", plan_step)\n",
        "\n",
        "# Add the execution step\n",
        "workflow.add_node(\"agent\", execute_step)\n",
        "\n",
        "# Add a replan node\n",
        "workflow.add_node(\"replan\", replan_step)\n",
        "\n",
        "workflow.add_edge(START, \"planner\")\n",
        "\n",
        "# From plan we go to agent\n",
        "workflow.add_edge(\"planner\", \"agent\")\n",
        "\n",
        "# From agent, we replan\n",
        "workflow.add_edge(\"agent\", \"replan\")\n",
        "\n",
        "workflow.add_conditional_edges(\n",
        "    \"replan\",\n",
        "    # Next, we pass in the function that will determine which node is called next.\n",
        "    should_end,\n",
        "    [\"agent\", END],\n",
        ")\n",
        "\n",
        "# Finally, we compile it!\n",
        "# This compiles it into a LangChain Runnable,\n",
        "# meaning you can use it as you would any other runnable\n",
        "app = workflow.compile()"
      ],
      "metadata": {
        "id": "-afPkC27mPbz"
      },
      "execution_count": null,
      "outputs": []
    },
    {
      "cell_type": "markdown",
      "source": [
        "## Draw the Graph"
      ],
      "metadata": {
        "id": "LVUlC8HdmTfr"
      }
    },
    {
      "cell_type": "code",
      "source": [
        "from IPython.display import Image, display\n",
        "\n",
        "display(Image(app.get_graph(xray=True).draw_mermaid_png()))"
      ],
      "metadata": {
        "colab": {
          "base_uri": "https://localhost:8080/",
          "height": 796
        },
        "id": "U8-jx-FzmYVS",
        "outputId": "b45be64f-b908-4fe4-a844-c2f22ae8db2c"
      },
      "execution_count": null,
      "outputs": [
        {
          "output_type": "display_data",
          "data": {
            "image/png": "[encoded data removed]",
            "text/plain": [
              "<IPython.core.display.Image object>"
            ]
          },
          "metadata": {}
        }
      ]
    },
    {
      "cell_type": "markdown",
      "source": [],
      "metadata": {
        "id": "ZUOf42aEmNzq"
      }
    },
    {
      "cell_type": "code",
      "source": [
        "config = {\"recursion_limit\": 20}\n",
        "inputs = {\"input\": \"Summarise the tariff war between US and Canada in 10 words?\"}\n",
        "async for event in app.astream(inputs, config=config):\n",
        "    for k, v in event.items():\n",
        "        if k != \"__end__\":\n",
        "            print(v)"
      ],
      "metadata": {
        "colab": {
          "base_uri": "https://localhost:8080/",
          "height": 717
        },
        "id": "aah8J-gNnZSZ",
        "outputId": "7a3bff45-7d49-42e3-92ea-87db89ccafb1"
      },
      "execution_count": null,
      "outputs": [
        {
          "output_type": "stream",
          "name": "stdout",
          "text": [
            "{'plan': ['Identify key events in US-Canada tariff war', 'Summarize events in concise language', 'Limit summary to 10 words', 'Ensure clarity and accuracy in summary', 'Review and finalize the summary for completeness.']}\n",
            "{'past_steps': [('Identify key events in US-Canada tariff war', '---------------\\nweak domestic demand and growing local government debt. The new tariffs appear to break the terms of the US-Mexico-Canada Agreement (USMCA) on trade. The deal, which Trump signed into law, took effect in 2020. It continued a largely duty-free trading relationship between the three neighbouring countries. Outside the official reaction from the three countries affected, the response has been critical. Doug Ford, the premier of the Canadian province of Ontario, said Trump\\'s planned tariff would be \"devastating to workers and jobs in both Canada and the US\". Leader of the Mexican senate, Gerardo Fernández, asked: \"What tariffs should we impose on their [America\\'s] goods until they stop consuming drugs and illegally exporting weapons to our homeland?\"\\n---------------\\nCanada said tariffs would cause disruption on both sides of the border. Prime Minister Justin Trudeau slammed the tariffs as \"absolutely unacceptable\".\\n\\nHe told reporters in Ontario he was \"confident we\\'re going to continue to be able to defend Canadian industry\".\\n\\nIt is one of several countries, including Brazil, Mexico and Japan, that have said they will consider retaliatory steps if the president presses ahead with his plan next week.\\n\\nWorld Trade Organization Director General Roberto Azevedo said: \"A trade war is in no-one\\'s interests.\"\\n\\nBut Mr Trump tweeted, \"Trade wars are good.\"\\n\\nAre trade wars good?\\n\\nAnalysis by Theo Leggett, business correspondent\\n\\nIf trade wars really were good and easy to win, the World Trade Organization probably wouldn\\'t exist.\\n\\nMost countries believe that negotiations are best carried out and disputes settled through a rules-based system. Introducing trade barriers on a tit-for-tat basis has the potential to harm companies on both sides.\\n---------------\\nCanada announces new border rules following Trump tariff threat\\n\\nAnnouncing details of the plan, Canada\\'s minister of finance and intergovernmental affairs said the federal government would devote C$1.3bn ($900m; £700m) to the plan.\\n\\nEconomists say such tariffs could strike a blow to Canada\\'s economy.\\n\\nThe pledge follows a threat from President-elect Donald Trump to impose, when he takes office in January, a 25% tariff on Canadian goods if the country does not secure its shared border to the flow of irregular migrants and illegal drugs.\\n\\nCanada has promised to implement a set of sweeping new security measures along the country\\'s US border, including strengthened surveillance and a joint \"strike force\" to target transnational organised crime.\\n\\nThe measures \"will secure our border against the flow of illegal drugs and irregular migration while ensuring the free flow of people and goods that are at the core of North America\\'s prosperity\", Minister Dominic LeBlanc said on Tuesday.\\n---------------')]}\n",
            "{'plan': ['Summarize key events identified in concise language', 'Limit summary to 10 words', 'Ensure clarity and accuracy in summary', 'Review and finalize the summary for completeness.']}\n",
            "{'past_steps': [('Summarize key events identified in concise language', 'Please provide the key events that need to be summarized.')]}\n",
            "{'plan': ['Identify key events in US-Canada tariff war', 'Summarize key events identified in concise language', 'Limit summary to 10 words', 'Ensure clarity and accuracy in summary', 'Review and finalize the summary for completeness.']}\n",
            "{'past_steps': [('Identify key events in US-Canada tariff war', '---------------\\nweak domestic demand and growing local government debt. The new tariffs appear to break the terms of the US-Mexico-Canada Agreement (USMCA) on trade. The deal, which Trump signed into law, took effect in 2020. It continued a largely duty-free trading relationship between the three neighbouring countries. Outside the official reaction from the three countries affected, the response has been critical. Doug Ford, the premier of the Canadian province of Ontario, said Trump\\'s planned tariff would be \"devastating to workers and jobs in both Canada and the US\". Leader of the Mexican senate, Gerardo Fernández, asked: \"What tariffs should we impose on their [America\\'s] goods until they stop consuming drugs and illegally exporting weapons to our homeland?\"\\n---------------\\nCanada said tariffs would cause disruption on both sides of the border. Prime Minister Justin Trudeau slammed the tariffs as \"absolutely unacceptable\".\\n\\nHe told reporters in Ontario he was \"confident we\\'re going to continue to be able to defend Canadian industry\".\\n\\nIt is one of several countries, including Brazil, Mexico and Japan, that have said they will consider retaliatory steps if the president presses ahead with his plan next week.\\n\\nWorld Trade Organization Director General Roberto Azevedo said: \"A trade war is in no-one\\'s interests.\"\\n\\nBut Mr Trump tweeted, \"Trade wars are good.\"\\n\\nAre trade wars good?\\n\\nAnalysis by Theo Leggett, business correspondent\\n\\nIf trade wars really were good and easy to win, the World Trade Organization probably wouldn\\'t exist.\\n\\nMost countries believe that negotiations are best carried out and disputes settled through a rules-based system. Introducing trade barriers on a tit-for-tat basis has the potential to harm companies on both sides.\\n---------------\\nCanada announces new border rules following Trump tariff threat\\n\\nAnnouncing details of the plan, Canada\\'s minister of finance and intergovernmental affairs said the federal government would devote C$1.3bn ($900m; £700m) to the plan.\\n\\nEconomists say such tariffs could strike a blow to Canada\\'s economy.\\n\\nThe pledge follows a threat from President-elect Donald Trump to impose, when he takes office in January, a 25% tariff on Canadian goods if the country does not secure its shared border to the flow of irregular migrants and illegal drugs.\\n\\nCanada has promised to implement a set of sweeping new security measures along the country\\'s US border, including strengthened surveillance and a joint \"strike force\" to target transnational organised crime.\\n\\nThe measures \"will secure our border against the flow of illegal drugs and irregular migration while ensuring the free flow of people and goods that are at the core of North America\\'s prosperity\", Minister Dominic LeBlanc said on Tuesday.\\n---------------')]}\n",
            "{'plan': ['Limit summary to 10 words', 'Ensure clarity and accuracy in summary', 'Review and finalize the summary for completeness.']}\n",
            "{'past_steps': [('Limit summary to 10 words', 'Please provide the text or content that needs to be summarized.')]}\n",
            "{'plan': ['Identify key events in US-Canada tariff war', 'Summarize key events identified in concise language', 'Limit summary to 10 words', 'Review and finalize the summary for clarity and accuracy.']}\n",
            "{'past_steps': [('Identify key events in US-Canada tariff war', '---------------\\nweak domestic demand and growing local government debt. The new tariffs appear to break the terms of the US-Mexico-Canada Agreement (USMCA) on trade. The deal, which Trump signed into law, took effect in 2020. It continued a largely duty-free trading relationship between the three neighbouring countries. Outside the official reaction from the three countries affected, the response has been critical. Doug Ford, the premier of the Canadian province of Ontario, said Trump\\'s planned tariff would be \"devastating to workers and jobs in both Canada and the US\". Leader of the Mexican senate, Gerardo Fernández, asked: \"What tariffs should we impose on their [America\\'s] goods until they stop consuming drugs and illegally exporting weapons to our homeland?\"\\n---------------\\nCanada said tariffs would cause disruption on both sides of the border. Prime Minister Justin Trudeau slammed the tariffs as \"absolutely unacceptable\".\\n\\nHe told reporters in Ontario he was \"confident we\\'re going to continue to be able to defend Canadian industry\".\\n\\nIt is one of several countries, including Brazil, Mexico and Japan, that have said they will consider retaliatory steps if the president presses ahead with his plan next week.\\n\\nWorld Trade Organization Director General Roberto Azevedo said: \"A trade war is in no-one\\'s interests.\"\\n\\nBut Mr Trump tweeted, \"Trade wars are good.\"\\n\\nAre trade wars good?\\n\\nAnalysis by Theo Leggett, business correspondent\\n\\nIf trade wars really were good and easy to win, the World Trade Organization probably wouldn\\'t exist.\\n\\nMost countries believe that negotiations are best carried out and disputes settled through a rules-based system. Introducing trade barriers on a tit-for-tat basis has the potential to harm companies on both sides.\\n---------------\\nCanada announces new border rules following Trump tariff threat\\n\\nAnnouncing details of the plan, Canada\\'s minister of finance and intergovernmental affairs said the federal government would devote C$1.3bn ($900m; £700m) to the plan.\\n\\nEconomists say such tariffs could strike a blow to Canada\\'s economy.\\n\\nThe pledge follows a threat from President-elect Donald Trump to impose, when he takes office in January, a 25% tariff on Canadian goods if the country does not secure its shared border to the flow of irregular migrants and illegal drugs.\\n\\nCanada has promised to implement a set of sweeping new security measures along the country\\'s US border, including strengthened surveillance and a joint \"strike force\" to target transnational organised crime.\\n\\nThe measures \"will secure our border against the flow of illegal drugs and irregular migration while ensuring the free flow of people and goods that are at the core of North America\\'s prosperity\", Minister Dominic LeBlanc said on Tuesday.\\n---------------')]}\n",
            "{'plan': ['Limit summary to 10 words', 'Review and finalize the summary for clarity and accuracy.']}\n",
            "{'past_steps': [('Limit summary to 10 words', 'Please provide the text or content that you would like summarized to 10 words.')]}\n",
            "{'plan': ['Summarize key events identified in concise language into 10 words', 'Review and finalize the summary for clarity and accuracy.']}\n",
            "{'past_steps': [('Summarize key events identified in concise language into 10 words', '---------------\\nThe five pillars of the plan cover the disruption of the fentanyl trade, new tools for law enforcement, enhanced coordination with US law enforcement, increased information sharing and limiting traffic at the border.\\n\\nThey include a proposed aerial surveillance task force, including helicopters, drones and mobile surveillance towers between ports of entry.\\n\\nThe government is also giving the Canada Border Service Agency funds to train new dog teams to find illegal drugs, and new detection tools for high-risk ports of entry.\\n\\nAnd LeBlanc provided further detail on the so-called \"joint strike force\" for Canadian and US authorities, saying it would include \"support in operational surges, dedicated synthetic drug units, expanded combined forces, special enforcement units, binational integrated enforcement teams, and new operational capacity and infrastructure\".\\n---------------\\nWhat is Trump\\'s strategy?\\n---------------\\nHow do tariffs work?\\n---------------')]}\n",
            "{'plan': ['Summarize key events identified in concise language into 10 words', 'Review and finalize the summary for clarity and accuracy.']}\n",
            "{'past_steps': [('Summarize key events identified in concise language into 10 words', '---------------\\nThe five pillars of the plan cover the disruption of the fentanyl trade, new tools for law enforcement, enhanced coordination with US law enforcement, increased information sharing and limiting traffic at the border.\\n\\nThey include a proposed aerial surveillance task force, including helicopters, drones and mobile surveillance towers between ports of entry.\\n\\nThe government is also giving the Canada Border Service Agency funds to train new dog teams to find illegal drugs, and new detection tools for high-risk ports of entry.\\n\\nAnd LeBlanc provided further detail on the so-called \"joint strike force\" for Canadian and US authorities, saying it would include \"support in operational surges, dedicated synthetic drug units, expanded combined forces, special enforcement units, binational integrated enforcement teams, and new operational capacity and infrastructure\".\\n---------------\\nWhat is Trump\\'s strategy?\\n---------------\\nHow do tariffs work?\\n---------------')]}\n",
            "{'plan': ['Summarize key events identified in concise language into 10 words', 'Review and finalize the summary for clarity and accuracy.']}\n",
            "{'past_steps': [('Summarize key events identified in concise language into 10 words', '---------------\\nThe five pillars of the plan cover the disruption of the fentanyl trade, new tools for law enforcement, enhanced coordination with US law enforcement, increased information sharing and limiting traffic at the border.\\n\\nThey include a proposed aerial surveillance task force, including helicopters, drones and mobile surveillance towers between ports of entry.\\n\\nThe government is also giving the Canada Border Service Agency funds to train new dog teams to find illegal drugs, and new detection tools for high-risk ports of entry.\\n\\nAnd LeBlanc provided further detail on the so-called \"joint strike force\" for Canadian and US authorities, saying it would include \"support in operational surges, dedicated synthetic drug units, expanded combined forces, special enforcement units, binational integrated enforcement teams, and new operational capacity and infrastructure\".\\n---------------\\nWhat is Trump\\'s strategy?\\n---------------\\nHow do tariffs work?\\n---------------')]}\n",
            "{'plan': ['Summarize key events identified in concise language into 10 words', 'Review and finalize the summary for clarity and accuracy.']}\n",
            "{'past_steps': [('Summarize key events identified in concise language into 10 words', '---------------\\nThe five pillars of the plan cover the disruption of the fentanyl trade, new tools for law enforcement, enhanced coordination with US law enforcement, increased information sharing and limiting traffic at the border.\\n\\nThey include a proposed aerial surveillance task force, including helicopters, drones and mobile surveillance towers between ports of entry.\\n\\nThe government is also giving the Canada Border Service Agency funds to train new dog teams to find illegal drugs, and new detection tools for high-risk ports of entry.\\n\\nAnd LeBlanc provided further detail on the so-called \"joint strike force\" for Canadian and US authorities, saying it would include \"support in operational surges, dedicated synthetic drug units, expanded combined forces, special enforcement units, binational integrated enforcement teams, and new operational capacity and infrastructure\".\\n---------------\\nWhat is Trump\\'s strategy?\\n---------------\\nHow do tariffs work?\\n---------------')]}\n"
          ]
        },
        {
          "output_type": "error",
          "ename": "GraphRecursionError",
          "evalue": "Recursion limit of 20 reached without hitting a stop condition. You can increase the limit by setting the `recursion_limit` config key.\nFor troubleshooting, visit: https://python.langchain.com/docs/troubleshooting/errors/GRAPH_RECURSION_LIMIT",
          "traceback": [
            "\u001b[0;31m---------------------------------------------------------------------------\u001b[0m",
            "\u001b[0;31mGraphRecursionError\u001b[0m                       Traceback (most recent call last)",
            "\u001b[0;32m<ipython-input-43-c5cb04333755>\u001b[0m in \u001b[0;36m<cell line: 3>\u001b[0;34m()\u001b[0m\n\u001b[1;32m      1\u001b[0m \u001b[0mconfig\u001b[0m \u001b[0;34m=\u001b[0m \u001b[0;34m{\u001b[0m\u001b[0;34m\"recursion_limit\"\u001b[0m\u001b[0;34m:\u001b[0m \u001b[0;36m20\u001b[0m\u001b[0;34m}\u001b[0m\u001b[0;34m\u001b[0m\u001b[0;34m\u001b[0m\u001b[0m\n\u001b[1;32m      2\u001b[0m \u001b[0minputs\u001b[0m \u001b[0;34m=\u001b[0m \u001b[0;34m{\u001b[0m\u001b[0;34m\"input\"\u001b[0m\u001b[0;34m:\u001b[0m \u001b[0;34m\"Summarise the tariff war between US and Canada in 10 words?\"\u001b[0m\u001b[0;34m}\u001b[0m\u001b[0;34m\u001b[0m\u001b[0;34m\u001b[0m\u001b[0m\n\u001b[0;32m----> 3\u001b[0;31m \u001b[0;32masync\u001b[0m \u001b[0;32mfor\u001b[0m \u001b[0mevent\u001b[0m \u001b[0;32min\u001b[0m \u001b[0mapp\u001b[0m\u001b[0;34m.\u001b[0m\u001b[0mastream\u001b[0m\u001b[0;34m(\u001b[0m\u001b[0minputs\u001b[0m\u001b[0;34m,\u001b[0m \u001b[0mconfig\u001b[0m\u001b[0;34m=\u001b[0m\u001b[0mconfig\u001b[0m\u001b[0;34m)\u001b[0m\u001b[0;34m:\u001b[0m\u001b[0;34m\u001b[0m\u001b[0;34m\u001b[0m\u001b[0m\n\u001b[0m\u001b[1;32m      4\u001b[0m     \u001b[0;32mfor\u001b[0m \u001b[0mk\u001b[0m\u001b[0;34m,\u001b[0m \u001b[0mv\u001b[0m \u001b[0;32min\u001b[0m \u001b[0mevent\u001b[0m\u001b[0;34m.\u001b[0m\u001b[0mitems\u001b[0m\u001b[0;34m(\u001b[0m\u001b[0;34m)\u001b[0m\u001b[0;34m:\u001b[0m\u001b[0;34m\u001b[0m\u001b[0;34m\u001b[0m\u001b[0m\n\u001b[1;32m      5\u001b[0m         \u001b[0;32mif\u001b[0m \u001b[0mk\u001b[0m \u001b[0;34m!=\u001b[0m \u001b[0;34m\"__end__\"\u001b[0m\u001b[0;34m:\u001b[0m\u001b[0;34m\u001b[0m\u001b[0;34m\u001b[0m\u001b[0m\n",
            "\u001b[0;32m/usr/local/lib/python3.10/dist-packages/langgraph/pregel/__init__.py\u001b[0m in \u001b[0;36mastream\u001b[0;34m(self, input, config, stream_mode, output_keys, interrupt_before, interrupt_after, debug, subgraphs)\u001b[0m\n\u001b[1;32m   1898\u001b[0m                     \u001b[0merror_code\u001b[0m\u001b[0;34m=\u001b[0m\u001b[0mErrorCode\u001b[0m\u001b[0;34m.\u001b[0m\u001b[0mGRAPH_RECURSION_LIMIT\u001b[0m\u001b[0;34m,\u001b[0m\u001b[0;34m\u001b[0m\u001b[0;34m\u001b[0m\u001b[0m\n\u001b[1;32m   1899\u001b[0m                 )\n\u001b[0;32m-> 1900\u001b[0;31m                 \u001b[0;32mraise\u001b[0m \u001b[0mGraphRecursionError\u001b[0m\u001b[0;34m(\u001b[0m\u001b[0mmsg\u001b[0m\u001b[0;34m)\u001b[0m\u001b[0;34m\u001b[0m\u001b[0;34m\u001b[0m\u001b[0m\n\u001b[0m\u001b[1;32m   1901\u001b[0m             \u001b[0;31m# set final channel values as run output\u001b[0m\u001b[0;34m\u001b[0m\u001b[0;34m\u001b[0m\u001b[0m\n\u001b[1;32m   1902\u001b[0m             \u001b[0;32mawait\u001b[0m \u001b[0mrun_manager\u001b[0m\u001b[0;34m.\u001b[0m\u001b[0mon_chain_end\u001b[0m\u001b[0;34m(\u001b[0m\u001b[0mloop\u001b[0m\u001b[0;34m.\u001b[0m\u001b[0moutput\u001b[0m\u001b[0;34m)\u001b[0m\u001b[0;34m\u001b[0m\u001b[0;34m\u001b[0m\u001b[0m\n",
            "\u001b[0;31mGraphRecursionError\u001b[0m: Recursion limit of 20 reached without hitting a stop condition. You can increase the limit by setting the `recursion_limit` config key.\nFor troubleshooting, visit: https://python.langchain.com/docs/troubleshooting/errors/GRAPH_RECURSION_LIMIT"
          ]
        }
      ]
    }
  ]
}